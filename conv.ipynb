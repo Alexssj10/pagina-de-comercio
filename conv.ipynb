{
 "cells": [
  {
   "cell_type": "code",
   "execution_count": 7,
   "id": "c0625685",
   "metadata": {},
   "outputs": [
    {
     "name": "stdout",
     "output_type": "stream",
     "text": [
      "                                          Unnamed: 0  Unnamed: 1\n",
      "0                                                  {         NaN\n",
      "1      \"nombre;descripcion;precio;imagen\":\"Casa E...         NaN\n",
      "2                                                 },         NaN\n",
      "3                                                  {         NaN\n",
      "4      \"nombre;descripcion;precio;imagen\":\"Casa E...         NaN\n"
     ]
    }
   ],
   "source": [
    "import pandas as pd\n",
    "\n",
    "df = pd.read_csv(\"catalogo.csv\", sep=None, engine=\"python\", encoding=\"utf-8\")\n",
    "\n",
    "print(df.head())  # para ver si ahora sí está bien\n",
    "df.to_json(\"catalogo.json\", orient=\"records\", force_ascii=False, indent=2)\n"
   ]
  }
 ],
 "metadata": {
  "kernelspec": {
   "display_name": "proyecto",
   "language": "python",
   "name": "python3"
  },
  "language_info": {
   "codemirror_mode": {
    "name": "ipython",
    "version": 3
   },
   "file_extension": ".py",
   "mimetype": "text/x-python",
   "name": "python",
   "nbconvert_exporter": "python",
   "pygments_lexer": "ipython3",
   "version": "3.8.20"
  }
 },
 "nbformat": 4,
 "nbformat_minor": 5
}
